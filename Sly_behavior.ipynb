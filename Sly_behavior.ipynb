{
 "cells": [
  {
   "cell_type": "code",
   "execution_count": 2,
   "metadata": {},
   "outputs": [],
   "source": [
    "import scipy.io\n",
    "import pandas as pd\n",
    "import numpy as np\n",
    "pd.options.display.max_seq_items = 2000"
   ]
  },
  {
   "cell_type": "code",
   "execution_count": 29,
   "metadata": {},
   "outputs": [
    {
     "name": "stdout",
     "output_type": "stream",
     "text": [
      "864\n"
     ]
    }
   ],
   "source": [
    "# Load a .mat file\n",
    "mat_data = scipy.io.loadmat('D:/Uchi_data/Sly_beh/MMN_data/converted_data/20230907_Sly_MMN_steps.mat')\n",
    "# Get the list of variable names\n",
    "variable_names = [var for var in mat_data if not var.startswith('__')]\n",
    "\n",
    "# chec data under beh\n",
    "beh_result = mat_data['beh']\n",
    "num_trials = beh_result.size\n",
    "all_beh = np.zeros((num_trials,4))"
   ]
  },
  {
   "cell_type": "code",
   "execution_count": 32,
   "metadata": {},
   "outputs": [],
   "source": [
    "# Save necessary info into a new array\n",
    "\n",
    "for i in range(num_trials):\n",
    "    element_velement_value_sample = beh_result[0,i]\n",
    "    element_trial = element_velement_value_sample['Trial']  # Access trial number\n",
    "    element_condition = element_velement_value_sample['Condition']  # Access condition number\n",
    "    element_trialerror = element_velement_value_sample['TrialError']  # Access condition number \n",
    "    all_beh[i,0] = element_trial\n",
    "    all_beh[i,1] = element_condition\n",
    "    all_beh[i,2] = element_trialerror"
   ]
  },
  {
   "cell_type": "code",
   "execution_count": null,
   "metadata": {},
   "outputs": [],
   "source": []
  }
 ],
 "metadata": {
  "kernelspec": {
   "display_name": "Python 3",
   "language": "python",
   "name": "python3"
  },
  "language_info": {
   "codemirror_mode": {
    "name": "ipython",
    "version": 3
   },
   "file_extension": ".py",
   "mimetype": "text/x-python",
   "name": "python",
   "nbconvert_exporter": "python",
   "pygments_lexer": "ipython3",
   "version": "3.10.2"
  },
  "orig_nbformat": 4
 },
 "nbformat": 4,
 "nbformat_minor": 2
}
