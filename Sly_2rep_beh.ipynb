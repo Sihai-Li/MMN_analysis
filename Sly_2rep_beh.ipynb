{
 "cells": [
  {
   "cell_type": "markdown",
   "metadata": {},
   "source": [
    "Sly 202321103 performance"
   ]
  },
  {
   "cell_type": "code",
   "execution_count": 12,
   "metadata": {},
   "outputs": [
    {
     "name": "stderr",
     "output_type": "stream",
     "text": [
      "C:\\Users\\Sihai\\AppData\\Local\\Temp\\ipykernel_25932\\1734904256.py:30: RuntimeWarning: Mean of empty slice\n",
      "  mean_RT = np.nanmean(RT_cond, axis=1)\n"
     ]
    },
    {
     "data": {
      "text/plain": [
       "<matplotlib.legend.Legend at 0x23a505523e0>"
      ]
     },
     "execution_count": 12,
     "metadata": {},
     "output_type": "execute_result"
    },
    {
     "data": {
      "image/png": "[encoded data removed]",
      "text/plain": [
       "<Figure size 432x288 with 1 Axes>"
      ]
     },
     "metadata": {
      "needs_background": "light"
     },
     "output_type": "display_data"
    }
   ],
   "source": [
    "import numpy as np\n",
    "import scipy.io\n",
    "import pandas as pd\n",
    "import matplotlib.pyplot as plt\n",
    "\n",
    "# Load data\n",
    "name = \"20231103_Sly_MMN_steps.mat\"\n",
    "dict_path = r'D:\\Uchi_data\\Sly_beh\\MMN_data\\converted_data\\\\'\n",
    "filename = dict_path + name\n",
    "data = scipy.io.loadmat(filename)\n",
    "\n",
    "beh = data['beh'][0]\n",
    "beh_df = pd.DataFrame(beh)\n",
    "\n",
    "num_cond = int(beh_df['Condition'].max())  # Ensure num_cond is an integer\n",
    "\n",
    "overall_cond = np.zeros(num_cond)\n",
    "correct_cond = np.zeros(num_cond)\n",
    "RT_cond = np.full((num_cond, 200), np.nan)\n",
    "\n",
    "for _, row in beh_df.iterrows():\n",
    "    for i in range(1, num_cond + 1):  # MATLAB indices start from 1\n",
    "        if row['Condition'] == i and (row['TrialError'] == 0 or row['TrialError'] == 8):\n",
    "            overall_cond[i-1] += 1  # Adjust for 0-based indexing\n",
    "\n",
    "            if row['TrialError'] == 0:\n",
    "                correct_cond[i-1] += 1\n",
    "                RT_cond[i-1, int(correct_cond[i-1])-1] = row['ReactionTime']\n",
    "\n",
    "mean_RT = np.nanmean(RT_cond, axis=1)\n",
    "cond_performance = correct_cond / overall_cond\n",
    "\n",
    "\n",
    "plt.figure()\n",
    "order = [9, 12, 8, 7, 10, 11, 5, 6, 13, 15, 4, 2, 14, 16, 1, 3]\n",
    "cond_performance_ordered = [cond_performance[i-1] for i in order]\n",
    "\n",
    "colors = ['lightgreen' if i in [1, 2, 5, 6, 9, 10, 13, 14] else 'lightblue' for i in range(1, 17)]\n",
    "\n",
    "bars = plt.bar(range(1, 17), cond_performance_ordered, color=colors)\n",
    "plt.xlabel('Conditions')\n",
    "plt.ylabel('Performance')\n",
    "plt.title('Performance ' + name)\n",
    "\n",
    "# Adding legend with specific color\n",
    "handles = [plt.Line2D([0], [0], color='lightgreen', lw=4),\n",
    "           plt.Line2D([0], [0], color='lightblue', lw=4)]\n",
    "\n",
    "labels = ['Match trials', 'Nonmatch trials']\n",
    "\n",
    "plt.legend(handles, labels, loc='upper left')\n",
    "\n",
    "\n",
    "\n",
    "\n"
   ]
  },
  {
   "cell_type": "code",
   "execution_count": 13,
   "metadata": {},
   "outputs": [
    {
     "name": "stderr",
     "output_type": "stream",
     "text": [
      "C:\\Users\\Sihai\\AppData\\Local\\Temp\\ipykernel_25932\\1593776129.py:30: RuntimeWarning: Mean of empty slice\n",
      "  mean_RT = np.nanmean(RT_cond, axis=1)\n"
     ]
    },
    {
     "data": {
      "text/plain": [
       "<matplotlib.legend.Legend at 0x23a536ed7b0>"
      ]
     },
     "execution_count": 13,
     "metadata": {},
     "output_type": "execute_result"
    },
    {
     "data": {
      "image/png": "[encoded data removed]",
      "text/plain": [
       "<Figure size 432x288 with 1 Axes>"
      ]
     },
     "metadata": {
      "needs_background": "light"
     },
     "output_type": "display_data"
    }
   ],
   "source": [
    "import numpy as np\n",
    "import scipy.io\n",
    "import pandas as pd\n",
    "import matplotlib.pyplot as plt\n",
    "\n",
    "# Load data\n",
    "name = \"20231031_Sly_MMN_steps.mat\"\n",
    "dict_path = r'D:\\Uchi_data\\Sly_beh\\MMN_data\\converted_data\\\\'\n",
    "filename = dict_path + name\n",
    "data = scipy.io.loadmat(filename)\n",
    "\n",
    "beh = data['beh'][0]\n",
    "beh_df = pd.DataFrame(beh)\n",
    "\n",
    "num_cond = int(beh_df['Condition'].max())  # Ensure num_cond is an integer\n",
    "\n",
    "overall_cond = np.zeros(num_cond)\n",
    "correct_cond = np.zeros(num_cond)\n",
    "RT_cond = np.full((num_cond, 200), np.nan)\n",
    "\n",
    "for _, row in beh_df.iterrows():\n",
    "    for i in range(1, num_cond + 1):  # MATLAB indices start from 1\n",
    "        if row['Condition'] == i and (row['TrialError'] == 0 or row['TrialError'] == 8):\n",
    "            overall_cond[i-1] += 1  # Adjust for 0-based indexing\n",
    "\n",
    "            if row['TrialError'] == 0:\n",
    "                correct_cond[i-1] += 1\n",
    "                RT_cond[i-1, int(correct_cond[i-1])-1] = row['ReactionTime']\n",
    "\n",
    "mean_RT = np.nanmean(RT_cond, axis=1)\n",
    "cond_performance = correct_cond / overall_cond\n",
    "\n",
    "\n",
    "plt.figure()\n",
    "order = [9, 12, 8, 7, 10, 11, 5, 6, 13, 15, 4, 2, 14, 16, 1, 3]\n",
    "cond_performance_ordered = [cond_performance[i-1] for i in order]\n",
    "\n",
    "colors = ['lightgreen' if i in [1, 2, 5, 6, 9, 10, 13, 14] else 'lightblue' for i in range(1, 17)]\n",
    "\n",
    "bars = plt.bar(range(1, 17), cond_performance_ordered, color=colors)\n",
    "plt.xlabel('Conditions')\n",
    "plt.ylabel('Performance')\n",
    "plt.title('Performance ' + name)\n",
    "\n",
    "# Adding legend with specific color\n",
    "handles = [plt.Line2D([0], [0], color='lightgreen', lw=4),\n",
    "           plt.Line2D([0], [0], color='lightblue', lw=4)]\n",
    "\n",
    "labels = ['Match trials', 'Nonmatch trials']\n",
    "\n",
    "plt.legend(handles, labels, loc='upper left')\n",
    "\n",
    "\n",
    "\n",
    "\n"
   ]
  },
  {
   "cell_type": "code",
   "execution_count": 2,
   "metadata": {},
   "outputs": [
    {
     "name": "stderr",
     "output_type": "stream",
     "text": [
      "C:\\Users\\Sihai\\AppData\\Local\\Temp\\ipykernel_26916\\3534110966.py:30: RuntimeWarning: Mean of empty slice\n",
      "  mean_RT = np.nanmean(RT_cond, axis=1)\n",
      "C:\\Users\\Sihai\\AppData\\Local\\Temp\\ipykernel_26916\\3534110966.py:31: RuntimeWarning: invalid value encountered in divide\n",
      "  cond_performance = correct_cond / overall_cond\n"
     ]
    },
    {
     "data": {
      "text/plain": [
       "<matplotlib.legend.Legend at 0x264f96f1cc0>"
      ]
     },
     "execution_count": 2,
     "metadata": {},
     "output_type": "execute_result"
    },
    {
     "data": {
      "image/png": "[encoded data removed]",
      "text/plain": [
       "<Figure size 432x288 with 1 Axes>"
      ]
     },
     "metadata": {
      "needs_background": "light"
     },
     "output_type": "display_data"
    }
   ],
   "source": [
    "import numpy as np\n",
    "import scipy.io\n",
    "import pandas as pd\n",
    "import matplotlib.pyplot as plt\n",
    "\n",
    "# Load data\n",
    "name = \"20231107_Sly_MMN_steps.mat\"\n",
    "dict_path = r'D:\\Uchi_data\\Sly_beh\\MMN_data\\converted_data\\\\'\n",
    "filename = dict_path + name\n",
    "data = scipy.io.loadmat(filename)\n",
    "\n",
    "beh = data['beh'][0]\n",
    "beh_df = pd.DataFrame(beh)\n",
    "\n",
    "num_cond = int(beh_df['Condition'].max())  # Ensure num_cond is an integer\n",
    "\n",
    "overall_cond = np.zeros(num_cond)\n",
    "correct_cond = np.zeros(num_cond)\n",
    "RT_cond = np.full((num_cond, 200), np.nan)\n",
    "\n",
    "for _, row in beh_df.iterrows():\n",
    "    for i in range(1, num_cond + 1):  # MATLAB indices start from 1\n",
    "        if row['Condition'] == i and (row['TrialError'] == 0 or row['TrialError'] == 8):\n",
    "            overall_cond[i-1] += 1  # Adjust for 0-based indexing\n",
    "\n",
    "            if row['TrialError'] == 0:\n",
    "                correct_cond[i-1] += 1\n",
    "                RT_cond[i-1, int(correct_cond[i-1])-1] = row['ReactionTime']\n",
    "\n",
    "mean_RT = np.nanmean(RT_cond, axis=1)\n",
    "cond_performance = correct_cond / overall_cond\n",
    "\n",
    "\n",
    "plt.figure()\n",
    "order = [9, 12, 8, 7, 10, 11, 5, 6, 13, 15, 4, 2, 14, 16, 1, 3]\n",
    "cond_performance_ordered = [cond_performance[i-1] for i in order]\n",
    "\n",
    "colors = ['lightgreen' if i in [1, 2, 5, 6, 9, 10, 13, 14] else 'lightblue' for i in range(1, 17)]\n",
    "\n",
    "bars = plt.bar(range(1, 17), cond_performance_ordered, color=colors)\n",
    "plt.xlabel('Conditions')\n",
    "plt.ylabel('Performance')\n",
    "plt.title('Performance ' + name)\n",
    "\n",
    "# Adding legend with specific color\n",
    "handles = [plt.Line2D([0], [0], color='lightgreen', lw=4),\n",
    "           plt.Line2D([0], [0], color='lightblue', lw=4)]\n",
    "\n",
    "labels = ['Match trials', 'Nonmatch trials']\n",
    "\n",
    "plt.legend(handles, labels, loc='upper left')"
   ]
  },
  {
   "cell_type": "code",
   "execution_count": 1,
   "metadata": {},
   "outputs": [
    {
     "name": "stderr",
     "output_type": "stream",
     "text": [
      "C:\\Users\\Sihai\\AppData\\Local\\Temp\\ipykernel_22716\\4071684720.py:30: RuntimeWarning: Mean of empty slice\n",
      "  mean_RT = np.nanmean(RT_cond, axis=1)\n"
     ]
    },
    {
     "data": {
      "text/plain": [
       "<matplotlib.legend.Legend at 0x220d64c7e20>"
      ]
     },
     "execution_count": 1,
     "metadata": {},
     "output_type": "execute_result"
    },
    {
     "data": {
      "image/png": "[encoded data removed]",
      "text/plain": [
       "<Figure size 432x288 with 1 Axes>"
      ]
     },
     "metadata": {
      "needs_background": "light"
     },
     "output_type": "display_data"
    }
   ],
   "source": [
    "import numpy as np\n",
    "import scipy.io\n",
    "import pandas as pd\n",
    "import matplotlib.pyplot as plt\n",
    "\n",
    "# Load data\n",
    "name = \"20231026_Sly_MMN_steps.mat\"\n",
    "dict_path = r'D:\\Uchi_data\\Sly_beh\\MMN_data\\converted_data\\\\'\n",
    "filename = dict_path + name\n",
    "data = scipy.io.loadmat(filename)\n",
    "\n",
    "beh = data['beh'][0]\n",
    "beh_df = pd.DataFrame(beh)\n",
    "\n",
    "num_cond = int(beh_df['Condition'].max())  # Ensure num_cond is an integer\n",
    "\n",
    "overall_cond = np.zeros(num_cond)\n",
    "correct_cond = np.zeros(num_cond)\n",
    "RT_cond = np.full((num_cond, 200), np.nan)\n",
    "\n",
    "for _, row in beh_df.iterrows():\n",
    "    for i in range(1, num_cond + 1):  # MATLAB indices start from 1\n",
    "        if row['Condition'] == i and (row['TrialError'] == 0 or row['TrialError'] == 8):\n",
    "            overall_cond[i-1] += 1  # Adjust for 0-based indexing\n",
    "\n",
    "            if row['TrialError'] == 0:\n",
    "                correct_cond[i-1] += 1\n",
    "                RT_cond[i-1, int(correct_cond[i-1])-1] = row['ReactionTime']\n",
    "\n",
    "mean_RT = np.nanmean(RT_cond, axis=1)\n",
    "cond_performance = correct_cond / overall_cond\n",
    "\n",
    "\n",
    "plt.figure()\n",
    "order = [9, 12, 8, 7, 10, 11, 5, 6, 13, 15, 4, 2, 14, 16, 1, 3]\n",
    "cond_performance_ordered = [cond_performance[i-1] for i in order]\n",
    "\n",
    "colors = ['lightgreen' if i in [1, 2, 5, 6, 9, 10, 13, 14] else 'lightblue' for i in range(1, 17)]\n",
    "\n",
    "bars = plt.bar(range(1, 17), cond_performance_ordered, color=colors)\n",
    "plt.xlabel('Conditions')\n",
    "plt.ylabel('Performance')\n",
    "plt.title('Performance ' + name)\n",
    "\n",
    "# Adding legend with specific color\n",
    "handles = [plt.Line2D([0], [0], color='lightgreen', lw=4),\n",
    "           plt.Line2D([0], [0], color='lightblue', lw=4)]\n",
    "\n",
    "labels = ['Match trials', 'Nonmatch trials']\n",
    "\n",
    "plt.legend(handles, labels, loc='upper left')\n"
   ]
  },
  {
   "cell_type": "code",
   "execution_count": 2,
   "metadata": {},
   "outputs": [
    {
     "name": "stderr",
     "output_type": "stream",
     "text": [
      "C:\\Users\\Sihai\\AppData\\Local\\Temp\\ipykernel_22716\\1215191432.py:30: RuntimeWarning: Mean of empty slice\n",
      "  mean_RT = np.nanmean(RT_cond, axis=1)\n"
     ]
    },
    {
     "data": {
      "text/plain": [
       "<matplotlib.legend.Legend at 0x220d657da50>"
      ]
     },
     "execution_count": 2,
     "metadata": {},
     "output_type": "execute_result"
    },
    {
     "data": {
      "image/png": "[encoded data removed]",
      "text/plain": [
       "<Figure size 432x288 with 1 Axes>"
      ]
     },
     "metadata": {
      "needs_background": "light"
     },
     "output_type": "display_data"
    }
   ],
   "source": [
    "import numpy as np\n",
    "import scipy.io\n",
    "import pandas as pd\n",
    "import matplotlib.pyplot as plt\n",
    "\n",
    "# Load data\n",
    "name = \"20231025_Sly_MMN_steps.mat\"\n",
    "dict_path = r'D:\\Uchi_data\\Sly_beh\\MMN_data\\converted_data\\\\'\n",
    "filename = dict_path + name\n",
    "data = scipy.io.loadmat(filename)\n",
    "\n",
    "beh = data['beh'][0]\n",
    "beh_df = pd.DataFrame(beh)\n",
    "\n",
    "num_cond = int(beh_df['Condition'].max())  # Ensure num_cond is an integer\n",
    "\n",
    "overall_cond = np.zeros(num_cond)\n",
    "correct_cond = np.zeros(num_cond)\n",
    "RT_cond = np.full((num_cond, 200), np.nan)\n",
    "\n",
    "for _, row in beh_df.iterrows():\n",
    "    for i in range(1, num_cond + 1):  # MATLAB indices start from 1\n",
    "        if row['Condition'] == i and (row['TrialError'] == 0 or row['TrialError'] == 8):\n",
    "            overall_cond[i-1] += 1  # Adjust for 0-based indexing\n",
    "\n",
    "            if row['TrialError'] == 0:\n",
    "                correct_cond[i-1] += 1\n",
    "                RT_cond[i-1, int(correct_cond[i-1])-1] = row['ReactionTime']\n",
    "\n",
    "mean_RT = np.nanmean(RT_cond, axis=1)\n",
    "cond_performance = correct_cond / overall_cond\n",
    "\n",
    "\n",
    "plt.figure()\n",
    "order = [9, 12, 8, 7, 10, 11, 5, 6, 13, 15, 4, 2, 14, 16, 1, 3]\n",
    "cond_performance_ordered = [cond_performance[i-1] for i in order]\n",
    "\n",
    "colors = ['lightgreen' if i in [1, 2, 5, 6, 9, 10, 13, 14] else 'lightblue' for i in range(1, 17)]\n",
    "\n",
    "bars = plt.bar(range(1, 17), cond_performance_ordered, color=colors)\n",
    "plt.xlabel('Conditions')\n",
    "plt.ylabel('Performance')\n",
    "plt.title('Performance ' + name)\n",
    "\n",
    "# Adding legend with specific color\n",
    "handles = [plt.Line2D([0], [0], color='lightgreen', lw=4),\n",
    "           plt.Line2D([0], [0], color='lightblue', lw=4)]\n",
    "\n",
    "labels = ['Match trials', 'Nonmatch trials']\n",
    "\n",
    "plt.legend(handles, labels, loc='upper left')\n"
   ]
  }
 ],
 "metadata": {
  "kernelspec": {
   "display_name": "Python 3",
   "language": "python",
   "name": "python3"
  },
  "language_info": {
   "codemirror_mode": {
    "name": "ipython",
    "version": 3
   },
   "file_extension": ".py",
   "mimetype": "text/x-python",
   "name": "python",
   "nbconvert_exporter": "python",
   "pygments_lexer": "ipython3",
   "version": "3.10.2"
  }
 },
 "nbformat": 4,
 "nbformat_minor": 2
}
